{
 "cells": [
  {
   "cell_type": "code",
   "execution_count": 290,
   "metadata": {},
   "outputs": [],
   "source": [
    "import numpy as np\n",
    "from numpy import pi,sqrt\n",
    "from qiskit import QuantumRegister, ClassicalRegister,QuantumCircuit, execute, IBMQ\n",
    "from qiskit.circuit.library import MCMT, RZGate\n",
    "from qiskit.tools.monitor import job_monitor\n",
    "import qiskit.quantum_info as qi\n",
    "'''Qiskit imports'''\n",
    "from qiskit import(\n",
    "    QuantumCircuit\n",
    "    , execute\n",
    "    , Aer\n",
    "    , ClassicalRegister\n",
    "    , QuantumRegister\n",
    ")\n",
    "backend_svec = Aer.get_backend('statevector_simulator')\n",
    "backend_qasm = Aer.get_backend('qasm_simulator')\n",
    "\n",
    "from qiskit.visualization import plot_histogram"
   ]
  },
  {
   "cell_type": "code",
   "execution_count": 291,
   "metadata": {},
   "outputs": [],
   "source": [
    "#Creating a customary unitary gate (tensored the V_k from article)\n",
    "\n",
    "#kappa value which changes the unitary matrix\n",
    "k = 2\n",
    "#angle to be changed to np.arange once algorithm works\n",
    "angle = 2\n",
    "\n",
    "v = qi.Operator([[k/(k+1),-np.sqrt(k)/(k+1),-np.sqrt(k)/(k+1),1/(k+1)],\n",
    "                [np.sqrt(k)/(k+1),k/(k+1),-1/(k+1),-np.sqrt(k)/(k+1)], \n",
    "                [np.sqrt(k)/(k+1),-1/(k+1),k/(k+1),-np.sqrt(k)/(k+1)],\n",
    "                [1/(k+1),np.sqrt(k)/(k+1),np.sqrt(k)/(k+1),k/(k+1)]])"
   ]
  },
  {
   "cell_type": "code",
   "execution_count": 292,
   "metadata": {},
   "outputs": [],
   "source": [
    "num_anc = 2\n",
    "num_sys = 3\n",
    "\n",
    "#define ancilla and system qubits\n",
    "ancilla = QuantumRegister(num_anc,'|0\\\\rangle')\n",
    "system = QuantumRegister(num_sys,'\\psi')\n",
    "#this is a classical bit to store the measurements\n",
    "# ab = ClassicalRegister(num_anc,'ancilla_meas')\n",
    "# sys_measure = ClassicalRegister(num_sys,'system_meas')\n",
    "\n",
    "# intialize circuit for applying Rz gates\n",
    "# phase = QuantumCircuit(ancilla,system)\n",
    "# rz_gate = RZGate(angle)\n",
    "# mcmt_gate = MCMT(rz_gate,num_anc,num_sys)\n",
    "# phase.append(mcmt_gate,ancilla[:]+system[:])\n",
    "# phase.draw('mpl')"
   ]
  },
  {
   "cell_type": "code",
   "execution_count": 293,
   "metadata": {},
   "outputs": [
    {
     "data": {
      "image/png": "[encoded data removed]",
      "text/plain": [
       "<Figure size 538.33x284.278 with 1 Axes>"
      ]
     },
     "execution_count": 293,
     "metadata": {},
     "output_type": "execute_result"
    }
   ],
   "source": [
    "# #Creating a custom controlled gate for the unitary operator \n",
    "qc1 = QuantumCircuit(3,name='$e^{\\lambda}$')\n",
    "qc1.cx(0,1)\n",
    "qc1.cx(1,2)\n",
    "qc1.rz(2*angle,2)\n",
    "qc1.cx(1,2)\n",
    "qc1.cx(0,1)\n",
    "unitary_ang = qc1.to_gate().control(2)\n",
    "\n",
    "# 3\\lambda\n",
    "qc2 = QuantumCircuit(3,name='$e^{3\\lambda}$')\n",
    "qc2.cx(0,1)\n",
    "qc2.cx(1,2)\n",
    "qc2.rz(3*(2*angle),2)\n",
    "qc2.cx(1,2)\n",
    "qc2.cx(0,1)\n",
    "unitary_ang3 = qc2.to_gate().control(2)\n",
    "\n",
    "#conjugate: -3\\lambda\n",
    "qc3 = QuantumCircuit(3, name='$e^{-3\\lambda}$')\n",
    "qc3.cx(0,1)\n",
    "qc3.cx(1,2)\n",
    "qc3.rz(-3*(2*angle),2)\n",
    "qc3.cx(1,2)\n",
    "qc3.cx(0,1)\n",
    "conjugate_1 = qc3.to_gate().control(2)\n",
    "\n",
    "#conjugate: -\\lambda\n",
    "qc4 = QuantumCircuit(3,name='$e^{-\\lambda}$')\n",
    "qc4.cx(0,1)\n",
    "qc4.cx(1,2)\n",
    "qc4.rz(3*(2*angle),2)\n",
    "qc4.cx(1,2)\n",
    "qc4.cx(0,1)\n",
    "conjugate_2 = qc4.to_gate().control(2)\n",
    "qc1.draw('mpl')\n",
    "\n"
   ]
  },
  {
   "cell_type": "code",
   "execution_count": 294,
   "metadata": {},
   "outputs": [
    {
     "data": {
      "text/plain": [
       "<qiskit.circuit.instructionset.InstructionSet at 0x17acc6bc0>"
      ]
     },
     "execution_count": 294,
     "metadata": {},
     "output_type": "execute_result"
    }
   ],
   "source": [
    "#initializing the gate to create the zero-controlled gates using X-gates\n",
    "prepare_x = QuantumCircuit(ancilla,system)\n",
    "prepare_x.x(ancilla[0])\n",
    "prepare_x.x(ancilla[1])\n",
    "prepare_x.append(unitary_ang3,[0,1,2,3,4])\n",
    "prepare_x.x(ancilla[0])\n",
    "prepare_x.x(ancilla[1])\n",
    "\n",
    "prepare_x2 = QuantumCircuit(ancilla,system)\n",
    "prepare_x2.x(ancilla[1])\n",
    "prepare_x2.append(conjugate_1,[0,1,2,3,4])\n",
    "prepare_x2.x(ancilla[1])\n",
    "\n",
    "#for second LCU for lambda angle\n",
    "prepare_x1 = QuantumCircuit(ancilla,system)\n",
    "prepare_x1.x(ancilla[0])\n",
    "prepare_x1.append(unitary_ang,[0,1,2,3,4])\n",
    "prepare_x1.x(ancilla[0])\n",
    "\n",
    "prepare_x3 = QuantumCircuit(ancilla,system)\n",
    "prepare_x3.append(conjugate_2,[0,1,2,3,4])\n",
    "\n",
    "\n"
   ]
  },
  {
   "cell_type": "code",
   "execution_count": 297,
   "metadata": {},
   "outputs": [
    {
     "name": "stderr",
     "output_type": "stream",
     "text": [
      "/Users/princetonwork/anaconda3/envs/pset_env/lib/python3.10/site-packages/qiskit/visualization/circuit/matplotlib.py:266: FutureWarning: The default matplotlib drawer scheme will be changed to \"iqp\" in a following release. To silence this warning, specify the current default explicitly as style=\"clifford\", or the new default as style=\"iqp\".\n",
      "  self._style, def_font_ratio = load_style(self._style)\n"
     ]
    },
    {
     "data": {
      "image/png": "[encoded data removed]",
      "text/plain": [
       "<Figure size 1213.75x316.05 with 1 Axes>"
      ]
     },
     "execution_count": 297,
     "metadata": {},
     "output_type": "execute_result"
    }
   ],
   "source": [
    "#composing unitary on ancilla circuit here\n",
    "unit_circ = QuantumCircuit(ancilla,system)\n",
    "unit_circ.unitary(v,[0,1])\n",
    "#composing hadamards on system state\n",
    "sys_hada_circ = QuantumCircuit(ancilla,system)\n",
    "for i in range(num_sys):\n",
    "    sys_hada_circ.h(system[i])\n",
    "#composing circuit\n",
    "main_circ = QuantumCircuit(ancilla,system)\n",
    "main_circ = main_circ.compose(unit_circ)\n",
    "main_circ = main_circ.compose(sys_hada_circ)\n",
    "main_circ.barrier()\n",
    "\n",
    "#implementing LCU algorithm\n",
    "main_circ = main_circ.compose(prepare_x1)\n",
    "main_circ.barrier()\n",
    "#\n",
    "main_circ = main_circ.compose(prepare_x2)\n",
    "main_circ.barrier()\n",
    "#\n",
    "main_circ = main_circ.compose(prepare_x3)\n",
    "main_circ.barrier()\n",
    "#\n",
    "main_circ = main_circ.compose(prepare_x)\n",
    "main_circ.barrier()\n",
    "\n",
    "#applying inverse unitary to ancilla qubits\n",
    "inverse = v.conjugate()\n",
    "inv_circ = QuantumCircuit(ancilla,system)\n",
    "inv_circ.unitary(inverse,[0,1])\n",
    "main_circ = main_circ.compose(inv_circ)\n",
    "\n",
    "\n",
    "main_circ.draw('mpl', scale=0.7)\n",
    "\n",
    "\n"
   ]
  },
  {
   "cell_type": "code",
   "execution_count": 296,
   "metadata": {},
   "outputs": [
    {
     "data": {
      "text/plain": [
       "array([ 0.14585274+0.14827649j,  0.18314765+0.03499344j,\n",
       "       -0.04623854-0.06998688j,  0.19361872-0.0494882j ,\n",
       "        0.14585274-0.14827649j,  0.18314765-0.03499344j,\n",
       "       -0.04623854+0.06998688j,  0.19361872+0.0494882j ,\n",
       "        0.14585274-0.14827649j,  0.18314765-0.03499344j,\n",
       "       -0.04623854+0.06998688j,  0.19361872+0.0494882j ,\n",
       "        0.14585274+0.14827649j,  0.18314765+0.03499344j,\n",
       "       -0.04623854-0.06998688j,  0.19361872-0.0494882j ,\n",
       "        0.14585274-0.14827649j,  0.18314765-0.03499344j,\n",
       "       -0.04623854+0.06998688j,  0.19361872+0.0494882j ,\n",
       "        0.14585274+0.14827649j,  0.18314765+0.03499344j,\n",
       "       -0.04623854-0.06998688j,  0.19361872-0.0494882j ,\n",
       "        0.14585274+0.14827649j,  0.18314765+0.03499344j,\n",
       "       -0.04623854-0.06998688j,  0.19361872-0.0494882j ,\n",
       "        0.14585274-0.14827649j,  0.18314765-0.03499344j,\n",
       "       -0.04623854+0.06998688j,  0.19361872+0.0494882j ])"
      ]
     },
     "execution_count": 296,
     "metadata": {},
     "output_type": "execute_result"
    }
   ],
   "source": [
    "sv = Statevector.from_label('00000')\n",
    "sv = sv.evolve(main_circ)\n",
    "sv.data"
   ]
  }
 ],
 "metadata": {
  "kernelspec": {
   "display_name": "pset_env",
   "language": "python",
   "name": "python3"
  },
  "language_info": {
   "codemirror_mode": {
    "name": "ipython",
    "version": 3
   },
   "file_extension": ".py",
   "mimetype": "text/x-python",
   "name": "python",
   "nbconvert_exporter": "python",
   "pygments_lexer": "ipython3",
   "version": "3.10.13"
  }
 },
 "nbformat": 4,
 "nbformat_minor": 2
}
